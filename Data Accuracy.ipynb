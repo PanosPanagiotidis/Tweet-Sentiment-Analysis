{
 "cells": [
  {
   "cell_type": "markdown",
   "metadata": {},
   "source": [
    "### Panagiotidis Panagiotis AM 1115201500200\n",
    "### Abatzidis Georgios AM 1115201400008"
   ]
  },
  {
   "cell_type": "code",
   "execution_count": 1,
   "metadata": {},
   "outputs": [],
   "source": [
    "from sklearn.feature_extraction.text import CountVectorizer \n",
    "from wordcloud import WordCloud\n",
    "import matplotlib.pyplot as plt\n",
    "from sklearn.feature_extraction.text import ENGLISH_STOP_WORDS\n",
    "from sklearn.neighbors import KNeighborsClassifier\n",
    "import numpy as np\n",
    "import pandas as pd\n",
    "from sklearn import svm\n",
    "from nltk.stem import PorterStemmer\n",
    "from sklearn.metrics import f1_score\n",
    "import nltk\n",
    "from nltk.stem import  WordNetLemmatizer\n",
    "import re\n",
    "import pickle\n",
    "import warnings \n",
    "from collections import Counter \n",
    "\n",
    "warnings.filterwarnings(action = \"ignore\")\n",
    "lemmatizer = WordNetLemmatizer() #\n",
    "stopWords = ENGLISH_STOP_WORDS\n",
    "tweets_train = [] #keep clean tweets from the train_set\n",
    "tweets_test = [] #keep clean tweets from the test_set"
   ]
  },
  {
   "cell_type": "code",
   "execution_count": 2,
   "metadata": {},
   "outputs": [],
   "source": [
    "def getcloud(tweets,name):\n",
    "    tokens = []\n",
    "    for s in tweets:\n",
    "        l = s.split()\n",
    "        for i in l:\n",
    "            tokens.append(i)\n",
    "\n",
    "    count = Counter(tokens)\n",
    "    s = count.most_common(100)\n",
    "    raw_string = []\n",
    "    for w in s:\n",
    "        raw_string.append(w[0])\n",
    "\n",
    "    raw_string = ' '.join(raw_string)\n",
    "    wordcloud = WordCloud(background_color=\"white\",stopwords=stopWords).generate(raw_string)\n",
    "    plt.imsave('./wordclouds/'+name+'.png',wordcloud)\n",
    "    del tweets\n"
   ]
  },
  {
   "cell_type": "code",
   "execution_count": 3,
   "metadata": {},
   "outputs": [],
   "source": [
    "positive_tweets=[]\n",
    "negative_tweets=[]\n",
    "neutral_tweets=[]\n",
    "\n",
    "train_data = pd.read_csv('../twitter_data/train2017.tsv',header=None,engine=\"python\",delimiter='\\t+',escapechar=\"\\\\\")\n",
    "\n",
    "for i in range(len(train_data)):\n",
    "    lc = train_data.iloc[i][3].lower()\n",
    "    clean_string = ' '.join(re.sub(\"(@[A-Za-z0-9]+)|([^0-9A-Za-z \\t])|(\\w+:\\/\\/\\S+)|[0-9]\",\" \",lc).split()) # remove special chars and links\n",
    "    tokens = nltk.word_tokenize(clean_string)\n",
    "    filtered = [w for w in tokens if not w in stopWords]\n",
    "    lem = ' '.join([lemmatizer.lemmatize(w) for w in filtered])\n",
    "    lem = re.sub(r'\\b\\w{1,3}\\b', '', lem) # remove words with 2 or less letters\n",
    "    tweets_train.append(lem)\n",
    "    if(train_data.iloc[i][2] == \"positive\"):\n",
    "        positive_tweets.append(lem)\n",
    "    elif (train_data.iloc[i][2] == \"neutral\"):\n",
    "        neutral_tweets.append(lem)\n",
    "    elif (train_data.iloc[i][2] == \"negative\"):\n",
    "        negative_tweets.append(lem)\n",
    "\n",
    "\n",
    "del train_data\n",
    "getcloud(tweets_train,\"all\")\n",
    "getcloud(positive_tweets,\"positive\")\n",
    "getcloud(neutral_tweets,\"neutral\")\n",
    "getcloud(negative_tweets,\"negative\")\n",
    "\n"
   ]
  },
  {
   "cell_type": "markdown",
   "metadata": {},
   "source": [
    "# Print the 100 most common words for every tweet and then for every positive,neutral or negative"
   ]
  },
  {
   "cell_type": "markdown",
   "metadata": {},
   "source": [
    "# All tweets \n",
    "<img src=\"wordclouds/all.png\">\n",
    "\n",
    "# Positive tweets\n",
    "<img src=\"wordclouds/positive.png\">\n",
    "\n",
    "# Neutral tweets\n",
    "<img src=\"wordclouds/neutral.png\">\n",
    "\n",
    "# Negative tweets\n",
    "<img src=\"wordclouds/negative.png\">"
   ]
  },
  {
   "cell_type": "markdown",
   "metadata": {},
   "source": [
    "# Loading all necessary data"
   ]
  },
  {
   "cell_type": "code",
   "execution_count": 2,
   "metadata": {},
   "outputs": [],
   "source": [
    "warnings.filterwarnings(action = \"ignore\")\n",
    "lemmatizer = WordNetLemmatizer() #\n",
    "stopWords = ENGLISH_STOP_WORDS\n",
    "tweets_train = [] #keep clean tweets from the train_set\n",
    "tweets_test = [] #keep clean tweets from the test_set\n",
    "correct_data = pd.read_csv('../twitter_data/SemEval2017_task4_subtaskA_test_english_gold.txt',header=None,engine=\"python\",delimiter='\\t+',escapechar=\"\\\\\")\n",
    "# correct_data = correct_data[0:5000]\n",
    "\n",
    "train_data = pd.read_csv('../twitter_data/train2017.tsv',header=None,engine=\"python\",delimiter='\\t+',escapechar=\"\\\\\")\n",
    "# train_data = train_data[0:5000]\n",
    "\n",
    "test_data = pd.read_csv('../twitter_data/test2017.tsv',header=None,engine=\"python\",delimiter='\\t+',escapechar=\"\\\\\")\n",
    "# test_data = test_data[0:5000]"
   ]
  },
  {
   "cell_type": "markdown",
   "metadata": {},
   "source": [
    "# Clean data from links,numbers,special characters and words less than three letters\n",
    "# Keep the lemmatized tweets for the two sets in their respective lists"
   ]
  },
  {
   "cell_type": "code",
   "execution_count": 3,
   "metadata": {},
   "outputs": [],
   "source": [
    "tweets_train = [] #keep clean tweets from the train_set\n",
    "tweets_test = [] #keep clean tweets from the test_set\n",
    "\n",
    "for i in range(len(train_data)):\n",
    "    lc = train_data.iloc[i][3].lower()\n",
    "    clean_string = ' '.join(re.sub(\"(@[A-Za-z0-9]+)|([^0-9A-Za-z \\t])|(\\w+:\\/\\/\\S+)|[0-9]\",\" \",lc).split())\n",
    "    tokens = nltk.word_tokenize(clean_string)\n",
    "    filtered = [w for w in tokens if not w in stopWords]\n",
    "    lem = ' '.join([lemmatizer.lemmatize(w) for w in filtered])\n",
    "    lem = re.sub(r'\\b\\w{1,3}\\b', '', lem)\n",
    "    tweets_train.append(lem)\n",
    "    \n",
    "for i in range(len(test_data)):\n",
    "    lc = test_data.iloc[i][3].lower()\n",
    "    clean_string = ' '.join(re.sub(\"(@[A-Za-z0-9]+)|([^0-9A-Za-z \\t])|(\\w+:\\/\\/\\S+)|[0-9]\",\" \",lc).split())\n",
    "    tokens = nltk.word_tokenize(clean_string)\n",
    "    filtered = [w for w in tokens if not w in stopWords]\n",
    "    lem = ' '.join([lemmatizer.lemmatize(w) for w in filtered])\n",
    "    lem = re.sub(r'\\b\\w{1,3}\\b', '', lem)\n",
    "    tweets_test.append(lem)\n",
    "    \n",
    "train_data[3] = tweets_train\n",
    "test_data[3] = tweets_test"
   ]
  },
  {
   "cell_type": "markdown",
   "metadata": {},
   "source": [
    "# Use Bag Of Words features to calculate data accuracy"
   ]
  },
  {
   "cell_type": "code",
   "execution_count": 6,
   "metadata": {},
   "outputs": [
    {
     "name": "stdout",
     "output_type": "stream",
     "text": [
      "svc_score is  0.3447705632858969\n",
      "knn_score is  0.31215352815765884\n"
     ]
    }
   ],
   "source": [
    "\n",
    "vectorizer = CountVectorizer(max_df=1.0, min_df=1, max_features=3000, stop_words=ENGLISH_STOP_WORDS) \n",
    "neib = KNeighborsClassifier(n_neighbors=5)\n",
    "\n",
    "bow_xtrain = vectorizer.fit_transform(train_data[3])\n",
    "bow_xtest = vectorizer.fit_transform(test_data[3])\n",
    "\n",
    "# pickle.dump(vectorizer,open('./features/bowvect.pkl','wb'))\n",
    "\n",
    "svc = svm.SVC(kernel='linear', C=1, probability=True)\n",
    "svc = svc.fit(bow_xtrain,train_data[2])\n",
    "# pickle.dump(vectorizer,open('./features/bowscv.pkl','wb'))\n",
    "\n",
    "prediction = svc.predict(bow_xtest)\n",
    "svc_score = f1_score(correct_data[1],prediction,average='macro')\n",
    "\n",
    "k = neib.fit(bow_xtrain,train_data[2])\n",
    "prediction = k.predict(bow_xtest)\n",
    "knn_score = f1_score(correct_data[1],prediction,average='macro')\n",
    "\n",
    "print \"svc_score is \",svc_score\n",
    "print \"knn_score is \",knn_score\n"
   ]
  },
  {
   "cell_type": "code",
   "execution_count": 33,
   "metadata": {},
   "outputs": [],
   "source": [
    "bow_svc = 0.3447705632858969\n",
    "bow_knn = 0.31215352815765884"
   ]
  },
  {
   "cell_type": "markdown",
   "metadata": {},
   "source": [
    "# Use TF IDF features to calculate data accuracy"
   ]
  },
  {
   "cell_type": "code",
   "execution_count": 7,
   "metadata": {},
   "outputs": [
    {
     "name": "stdout",
     "output_type": "stream",
     "text": [
      "svc_score is  0.38239388176378974\n",
      "knn_score is  0.3724398390575083\n"
     ]
    }
   ],
   "source": [
    "from sklearn.feature_extraction.text import TfidfVectorizer\n",
    "\n",
    "tfidf_vectorizer = TfidfVectorizer(max_df=1.0, min_df=1, max_features=3000, stop_words=ENGLISH_STOP_WORDS) \n",
    "\n",
    "bow_xtrain = tfidf_vectorizer.fit_transform(train_data[3])\n",
    "bow_xtest = tfidf_vectorizer.fit_transform(test_data[3])\n",
    "# pickle.dump(tfidf_vectorizer,open('./features/tfidfvect.pkl','wb'))\n",
    "\n",
    "svc = svm.SVC(kernel='linear', C=1, probability=True)\n",
    "svc = svc.fit(bow_xtrain,train_data[2])\n",
    "# pickle.dump(tfidf_vectorizer,open('./features/tfidfscv.pkl','wb'))\n",
    "prediction = svc.predict(bow_xtest)\n",
    "svc_score = f1_score(correct_data[1],prediction,average='weighted')\n",
    "\n",
    "k = neib.fit(bow_xtrain,train_data[2])\n",
    "prediction = k.predict(bow_xtest)\n",
    "knn_score = f1_score(correct_data[1],prediction,average='weighted')\n",
    "\n",
    "print \"svc_score is \",svc_score\n",
    "print \"knn_score is \",knn_score\n",
    "\n"
   ]
  },
  {
   "cell_type": "code",
   "execution_count": 34,
   "metadata": {},
   "outputs": [],
   "source": [
    "tf_svc = 0.38239388176378974\n",
    "tf_knn = 0.3724398390575083"
   ]
  },
  {
   "cell_type": "markdown",
   "metadata": {},
   "source": [
    "# Create and train a model using the train set"
   ]
  },
  {
   "cell_type": "code",
   "execution_count": 2,
   "metadata": {},
   "outputs": [],
   "source": [
    "import numpy as np\n",
    "import nltk\n",
    "import re\n",
    "import pickle\n",
    "import pandas as pd\n",
    "import gensim\n",
    "from sklearn.feature_extraction.text import TfidfVectorizer\n",
    "from sklearn.feature_extraction.text import ENGLISH_STOP_WORDS\n",
    "from sklearn.model_selection import train_test_split\n",
    "from sklearn import svm\n",
    "from nltk.stem import PorterStemmer\n",
    "from sklearn.metrics import f1_score\n",
    "from sklearn.manifold import TSNE\n",
    "\n",
    "fsize = 300\n",
    "#model is trained once for 300 features and a window size of 5\n",
    "#it is saved and later loaded to avoid re-training and to save time\n",
    "\n",
    "# tokenized_tweet_train = train_data[3].apply(lambda x: x.split()) \n",
    "# model = gensim.models.Word2Vec(\n",
    "#             tokenized_tweet_train,\n",
    "#             size=fsize, # desired no. of features/independent variables\n",
    "#             window=5, # context window size\n",
    "#             min_count=1,\n",
    "#             sg = 1, # 1 for skip-gram model\n",
    "#             hs = 0,\n",
    "#             negative = 10, # for negative sampling\n",
    "#             workers= 4 ,#no.of cores\n",
    "#             seed = 34) \n",
    "\n",
    "# model.train(tokenized_tweet_train, total_examples= len(train_data[3]), epochs=20)\n",
    "# model.save('./trainmodel')\n",
    "\n"
   ]
  },
  {
   "cell_type": "markdown",
   "metadata": {},
   "source": [
    "# Calculate the mean vector for each tweet"
   ]
  },
  {
   "cell_type": "code",
   "execution_count": 5,
   "metadata": {},
   "outputs": [],
   "source": [
    "def getmean(words,model):\n",
    "    vectors = []\n",
    "    for w in words: \n",
    "        if w in model: # if the word exists in the model vocabulary get the vector\n",
    "            vectors.append(model[w])\n",
    "        else:\n",
    "            vectors.append(np.random.random(model.vector_size)*2-1) # else create a random vector of n features\n",
    "    if(len(vectors)) > 0:\n",
    "        return np.mean(vectors,axis=0) # return the mean of vectors of words in tweet\n",
    "    else:\n",
    "        return np.zeros(model.vector_size,dtype = np.float32) # if the sentence is empty return a random vector"
   ]
  },
  {
   "cell_type": "code",
   "execution_count": 3,
   "metadata": {},
   "outputs": [],
   "source": [
    "#load model if it already has been trained\n",
    "model = gensim.models.Word2Vec.load('./trainmodel')"
   ]
  },
  {
   "cell_type": "code",
   "execution_count": 21,
   "metadata": {},
   "outputs": [],
   "source": [
    "from sklearn.manifold import TSNE \n",
    "import matplotlib.pyplot as plt\n",
    "def tsne_plot(model):\n",
    "    \"Creates and TSNE model and plots it\"\n",
    "    labels = []\n",
    "    tokens = []\n",
    "    \n",
    "    count = 0\n",
    "    for word in model.wv.vocab:\n",
    "        if(count >= 100):\n",
    "            break\n",
    "        tokens.append(model[word])\n",
    "        labels.append(word)\n",
    "        count +=1\n",
    "    \n",
    "    tsne_model = TSNE(perplexity=40, n_components=2, init='pca', n_iter=250, random_state=23)\n",
    "    new_values = tsne_model.fit_transform(tokens)\n",
    "\n",
    "    x = []\n",
    "    y = []\n",
    "\n",
    "    for value in new_values:\n",
    "        x.append(value[0])\n",
    "        y.append(value[1])\n",
    "\n",
    "    plt.figure(figsize=(16, 16)) \n",
    "    for i in range(len(x)):\n",
    "        plt.scatter(x[i],y[i])\n",
    "        plt.annotate(labels[i],\n",
    "                     xy=(x[i], y[i]),\n",
    "                     xytext=(5, 2),\n",
    "               textcoords='offset points',\n",
    "                         ha='right',\n",
    "                         va='bottom')\n",
    "    plt.savefig('tsne_plot.png')"
   ]
  },
  {
   "cell_type": "code",
   "execution_count": 22,
   "metadata": {},
   "outputs": [
    {
     "data": {
      "image/png": "[encoded data removed]",
      "text/plain": [
       "<matplotlib.figure.Figure at 0x1a19ae80>"
      ]
     },
     "metadata": {},
     "output_type": "display_data"
    }
   ],
   "source": [
    "#for only 100 words the plot remains undreable\n",
    "tsne_plot(model)"
   ]
  },
  {
   "cell_type": "code",
   "execution_count": 12,
   "metadata": {},
   "outputs": [],
   "source": [
    "#get mean vector for each tweet in test data\n",
    "allmean_test = np.zeros((len(test_data[3]),fsize))\n",
    "for i in range(len(test_data[3])):\n",
    "    tokenized = test_data.iloc[i][3].split()\n",
    "    allmean_test[i] = getmean(tokenized,model)"
   ]
  },
  {
   "cell_type": "code",
   "execution_count": 13,
   "metadata": {},
   "outputs": [],
   "source": [
    "#get mean vector for each tweet in train data\n",
    "allmean = np.zeros((len(train_data[3]),fsize))\n",
    "for i in range(len(train_data[3])):\n",
    "    tokenized = train_data.iloc[i][3].split()\n",
    "    allmean[i] = getmean(tokenized,model)\n",
    "\n",
    "    "
   ]
  },
  {
   "cell_type": "code",
   "execution_count": 9,
   "metadata": {
    "scrolled": true
   },
   "outputs": [],
   "source": [
    "#pass the data to the classificator\n",
    "svc = svm.SVC(kernel='linear', C=1, probability=True)\n",
    "svc = svc.fit(allmean,train_data[2])\n",
    "prediction = svc.predict(allmean_test)\n",
    "svc_score = f1_score(correct_data[1],prediction,average='macro')"
   ]
  },
  {
   "cell_type": "code",
   "execution_count": 12,
   "metadata": {},
   "outputs": [
    {
     "name": "stdout",
     "output_type": "stream",
     "text": [
      "svc_score is  0.41533750730187363\n",
      "knn_score is  0.4204438305102485\n"
     ]
    }
   ],
   "source": [
    "#same as above cell\n",
    "neib = KNeighborsClassifier(n_neighbors=5)\n",
    "k = neib.fit(allmean,train_data[2])\n",
    "prediction = k.predict(allmean_test)\n",
    "knn_score = f1_score(correct_data[1],prediction,average='macro')\n",
    "\n",
    "print \"svc_score is \",svc_score\n",
    "print \"knn_score is \",knn_score\n"
   ]
  },
  {
   "cell_type": "code",
   "execution_count": 35,
   "metadata": {},
   "outputs": [],
   "source": [
    "emb_svc = 0.41533750730187363\n",
    "emb_knn = 0.4204438305102485"
   ]
  },
  {
   "cell_type": "markdown",
   "metadata": {},
   "source": [
    "# Get lexica files"
   ]
  },
  {
   "cell_type": "code",
   "execution_count": 7,
   "metadata": {},
   "outputs": [],
   "source": [
    "#create a dictionary for the lexica\n",
    "def createdict(df):\n",
    "    d = dict()\n",
    "    for i in range(len(df)):\n",
    "        d[df[0][i]]=df[1][i]\n",
    "    return d"
   ]
  },
  {
   "cell_type": "code",
   "execution_count": 16,
   "metadata": {},
   "outputs": [],
   "source": [
    "#only tested with affin lexica\n",
    "#most others contain non-normalized values\n",
    "affin_data = pd.read_csv('../lexica/affin/affin.txt',header=None,engine=\"python\",delimiter='\\t+',escapechar=\"\\\\\")\n",
    "affin = createdict(affin_data)\n",
    "del affin_data\n",
    "\n",
    "# emot_data = pd.read_csv('../lexica/emotweet/valence_tweet.txt',header=None,engine=\"python\",delimiter='\\t+',escapechar=\"\\\\\")\n",
    "# emot = createdict(emot_data)\n",
    "# del emot_data\n",
    "# generic = pd.read_csv('./lexica/generic/generic.txt',header=None,engine=\"python\",delimiter='\\t+',escapechar=\"\\\\\")\n",
    "# nrc = pd.read_csv('./lexica/nrc/val.txt',header=None,engine=\"python\",delimiter='\\t+',escapechar=\"\\\\\")\n",
    "# nrctag = pd.read_csv('./lexica/nrctag/val.txt',header=None,engine=\"python\",delimiter='\\t+',escapechar=\"\\\\\")\n",
    "lexica =[]\n",
    "lexica.append(affin)\n",
    "# lexica.append(emot)\n",
    "# lexica.append(nrc)\n",
    "# lexica.append(nrctag)\n",
    "# lexica.append(generic)\n"
   ]
  },
  {
   "cell_type": "markdown",
   "metadata": {},
   "source": [
    "# Function to calculate mean valence for each tweet"
   ]
  },
  {
   "cell_type": "code",
   "execution_count": 9,
   "metadata": {},
   "outputs": [],
   "source": [
    "import random\n",
    "def getmeanval(sentence,meanvector):\n",
    "    \n",
    "    \n",
    "    tokenized = sentence.split()\n",
    "    for l in lexica:\n",
    "        sentence_val = 0 \n",
    "        words_found = 0\n",
    "        for w in tokenized:\n",
    "            val = searchword(w,l)\n",
    "            if(val != None):\n",
    "                words_found += 1\n",
    "                sentence_val += float(val)\n",
    "            else:\n",
    "                continue\n",
    "        if(words_found == 0):\n",
    "            meanvector = np.append(meanvector,random.uniform(-1, 1))\n",
    "        else:\n",
    "            meanvector = np.append(meanvector,sentence_val/words_found)\n",
    "    \n",
    "    return meanvector"
   ]
  },
  {
   "cell_type": "markdown",
   "metadata": {},
   "source": [
    "# Search for word w in lexica l"
   ]
  },
  {
   "cell_type": "code",
   "execution_count": 10,
   "metadata": {},
   "outputs": [],
   "source": [
    "def searchword(w,l):\n",
    "#     affin[affin[0] == 'aborts'].index[0]\n",
    "#     'tr' in affin[0].unique()\n",
    "    if w in l:\n",
    "        return l[w] # return valence value\n",
    "    return None # word not found"
   ]
  },
  {
   "cell_type": "markdown",
   "metadata": {},
   "source": [
    "# Load mean vectors for train and test set if needed"
   ]
  },
  {
   "cell_type": "code",
   "execution_count": 12,
   "metadata": {},
   "outputs": [],
   "source": [
    "#uncomment if running only for added features\n",
    "# import pickle\n",
    "# # pickle.dump(allmean,open('./means/allmean.pkl','wb'))\n",
    "# # pickle.dump(allmean_test,open('./means/allmean_test.pkl','wb'))\n",
    "# allmean = pickle.load( open( \"./means/allmean.pkl\", \"rb\" ) )\n",
    "# allmean_test = pickle.load( open( \"./means/allmean_test.pkl\", \"rb\" ) )"
   ]
  },
  {
   "cell_type": "markdown",
   "metadata": {},
   "source": [
    "# Add feature in each vector and save to extended_mean"
   ]
  },
  {
   "cell_type": "code",
   "execution_count": 17,
   "metadata": {},
   "outputs": [],
   "source": [
    "ext_mean_train = np.zeros((len(train_data[3]),fsize+len(lexica)))\n",
    "ext_mean_test = np.zeros((len(test_data[3]),fsize+len(lexica)))\n",
    "\n",
    "for i in range(len(train_data[3])):\n",
    "    ext_mean_train[i] = getmeanval(train_data.iloc[i][3],allmean[i])\n",
    "\n",
    "for i in range(len(test_data[3])):\n",
    "    ext_mean_test[i] = getmeanval(test_data.iloc[i][3],allmean_test[i])"
   ]
  },
  {
   "cell_type": "code",
   "execution_count": 22,
   "metadata": {},
   "outputs": [],
   "source": [
    "svc = svm.SVC(kernel='linear', C=1, probability=True)\n",
    "svc = svc.fit(ext_mean_train,train_data[2])\n",
    "prediction_svc = svc.predict(ext_mean_test)\n"
   ]
  },
  {
   "cell_type": "code",
   "execution_count": 23,
   "metadata": {},
   "outputs": [],
   "source": [
    "#dump svc model once\n",
    "# pickle.dump(svc,open('./features/scvmyfeat.pkl','wb'))"
   ]
  },
  {
   "cell_type": "code",
   "execution_count": 37,
   "metadata": {},
   "outputs": [
    {
     "name": "stdout",
     "output_type": "stream",
     "text": [
      "myfeat_svc is  0.523127656407497\n"
     ]
    }
   ],
   "source": [
    "myfeat_svc = f1_score(correct_data[1],prediction,average = 'weighted')\n",
    "print \"myfeat_svc is \",myfeat_svc"
   ]
  },
  {
   "cell_type": "code",
   "execution_count": 29,
   "metadata": {},
   "outputs": [],
   "source": [
    "neib = KNeighborsClassifier(n_neighbors=3,algorithm='auto') # faster than svc\n",
    "k = neib.fit(ext_mean_train,train_data[2])\n",
    "prediction_knn = k.predict(ext_mean_test)"
   ]
  },
  {
   "cell_type": "code",
   "execution_count": 30,
   "metadata": {},
   "outputs": [],
   "source": [
    "# pickle.dump(k,open('./features/kmyfeat.pkl','wb'))"
   ]
  },
  {
   "cell_type": "code",
   "execution_count": 38,
   "metadata": {},
   "outputs": [
    {
     "name": "stdout",
     "output_type": "stream",
     "text": [
      "myfeat_knn is  0.48446346286258346\n"
     ]
    }
   ],
   "source": [
    "myfeat_knn = f1_score(correct_data[1],prediction_knn,average='weighted')\n",
    "print \"myfeat_knn is \",myfeat_knn"
   ]
  },
  {
   "cell_type": "markdown",
   "metadata": {},
   "source": [
    "|  F1 Score    | BOW-features   | TF-IDF Features | word embeddings | word embeddings + mean valence|\n",
    "|------|------|------|------|------|\n",
    "| SVC  | 0.3447705632858969|0.38239388176378974|0.41533750730187363|0.523127656407497\n",
    "| KNN  |     0.31215352815765884 |0.3724398390575083|0.4204438305102485|0.48446346286258346\n"
   ]
  },
  {
   "cell_type": "markdown",
   "metadata": {},
   "source": [
    "Word embedding + mean valence for each tweet show the best accuracy for the test set"
   ]
  },
  {
   "cell_type": "code",
   "execution_count": null,
   "metadata": {},
   "outputs": [],
   "source": []
  }
 ],
 "metadata": {
  "kernelspec": {
   "display_name": "Python 2",
   "language": "python",
   "name": "python2"
  },
  "language_info": {
   "codemirror_mode": {
    "name": "ipython",
    "version": 2
   },
   "file_extension": ".py",
   "mimetype": "text/x-python",
   "name": "python",
   "nbconvert_exporter": "python",
   "pygments_lexer": "ipython2",
   "version": "2.7.14"
  }
 },
 "nbformat": 4,
 "nbformat_minor": 2
}
